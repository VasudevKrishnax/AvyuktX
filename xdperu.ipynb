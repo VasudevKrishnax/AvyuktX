{
  "nbformat": 4,
  "nbformat_minor": 0,
  "metadata": {
    "colab": {
      "provenance": [],
      "collapsed_sections": [
        "X8KEYaCg8s_z",
        "5pijsOtM8umq",
        "OZFXrH5c8t4c",
        "Q075VnT2IeWe",
        "naxmDckqJxgZ"
      ],
      "include_colab_link": true
    },
    "kernelspec": {
      "name": "python3",
      "display_name": "Python 3"
    },
    "language_info": {
      "name": "python"
    }
  },
  "cells": [
    {
      "cell_type": "markdown",
      "metadata": {
        "id": "view-in-github",
        "colab_type": "text"
      },
      "source": [
        "<a href=\"https://colab.research.google.com/github/VasudevKrishnax/AvyuktX/blob/main/xdperu.ipynb\" target=\"_parent\"><img src=\"https://colab.research.google.com/assets/colab-badge.svg\" alt=\"Open In Colab\"/></a>"
      ]
    },
    {
      "cell_type": "markdown",
      "source": [
        "># <img src='https://i.ibb.co/VNmCgKq/Logo.png' height=\"30\" /> </a> / [  [ 𝑷𝑬𝑹𝑼 ] ](https://t.me/xdperu)\n",
        ">   Only Torrent Downloading [Script](https://colab.research.google.com/drive/1GkzzGIz6tyR5sSSgnbsr4Y1eVGEeIgQs)"
      ],
      "metadata": {
        "id": "G0MJemC3fNL6"
      }
    },
    {
      "cell_type": "markdown",
      "source": [
        "# <img src='https://webtorrent.io/img/webtorrent-small.png' height=\"25\" /></a> <b> Fastest Torrent Downloader"
      ],
      "metadata": {
        "id": "5MUcGw778sAJ"
      }
    },
    {
      "cell_type": "code",
      "source": [
        "# @title <img src=\"https://kstatic.googleusercontent.com/files/e20dbc1db7b6eab22fb2d07df8043f8a74b301dbb8c176e6a1992b2dc229c5ae94b5c260cf549c41712fa40b7e639166c6a8461303a27c2a3b9c55b8ca155ec3\" height=\"19\" alt=\"Icon\"> <font color=orange><b>Mount Google Drive\n",
        "\n",
        "from google.colab import drive, output\n",
        "\n",
        "# Define custom ASCII art\n",
        "ascii_art = r\"\"\"\n",
        "           __ ___   ____ ___   __  __   __\n",
        " __ __ ___/ // _ \\ / __// _ \\ / / / /  / /_    __ _  ___\n",
        " \\ \\ // _  // ___// _/ / , _// /_/ /_ / __/_  /  ' \\/ -_)\n",
        "/_\\_\\ \\_,_//_/   /___//_/|_| \\____/(_)\\__/(_)/_/_/_/\\__/\n",
        "\"\"\"\n",
        "\n",
        "# Display custom ASCII art\n",
        "print(ascii_art)\n",
        "\n",
        "# Mount Google Drive\n",
        "drive.mount('/content/gdrive')\n",
        "\n",
        "# Clear the output\n",
        "output.clear()\n",
        "print('Success: Google Drive initialized')"
      ],
      "metadata": {
        "cellView": "form",
        "id": "ts6J9m0u9Kdz"
      },
      "execution_count": null,
      "outputs": []
    },
    {
      "cell_type": "code",
      "source": [
        "# @title <font color=red><b>   ⚡ Runner\n",
        "\n",
        "import os\n",
        "import subprocess\n",
        "\n",
        "Torrent_link = \"\"  #@param {type:\"string\"}\n",
        "gdrive_output = \"\"  #@param {type:\"string\"}\n",
        "drive_type = \"My Drive\" #@param [\"My Drive\", \"Shared Drive\"]\n",
        "sharded_drive_name = '' #@param {type:\"string\"}\n",
        "\n",
        "# Determine the output path based on the selected drive type\n",
        "if drive_type == 'Shared Drive':\n",
        "    if len(sharded_drive_name) < 1:\n",
        "        raise Exception('Error: No shared drive name supplied')\n",
        "\n",
        "    # Correct path for shared drives\n",
        "    output_path = os.path.join('/content/drive/Shared drives/', sharded_drive_name)\n",
        "\n",
        "    if not os.path.exists(output_path):\n",
        "        raise Exception('Error: Shared drive \"%s\" not found' % sharded_drive_name)\n",
        "else:\n",
        "    output_path = '/content/drive/MyDrive'\n",
        "\n",
        "# If gdrive_output is provided, create the output folder\n",
        "if gdrive_output:\n",
        "    output_path = os.path.join(output_path, gdrive_output)\n",
        "    os.makedirs(output_path, exist_ok=True)\n",
        "\n",
        "# Build the WebTorrent CLI command\n",
        "webtorrent_cmd = f'npx webtorrent-cli download \"{Torrent_link}\" -o \"{output_path}\"'\n",
        "\n",
        "# Use subprocess to run the command and print the output\n",
        "proc = subprocess.Popen(webtorrent_cmd, shell=True, stderr=subprocess.PIPE, stdout=subprocess.PIPE, universal_newlines=True)\n",
        "\n",
        "# Print the output in real-time\n",
        "for line in proc.stdout:\n",
        "    if \"Speed:\" in line:\n",
        "        print(line.strip())\n",
        "\n",
        "# Wait for the process to finish\n",
        "proc.wait()\n",
        "\n",
        "# Check if there was an error\n",
        "if proc.returncode != 0:\n",
        "    raise Exception(f'Error: Download failed')\n",
        "\n",
        "# Print success message\n",
        "print('Success: File downloaded!')"
      ],
      "metadata": {
        "cellView": "form",
        "id": "QpYe91zg9MnE"
      },
      "execution_count": null,
      "outputs": []
    },
    {
      "cell_type": "markdown",
      "source": [
        "#<img src='https://open.spotifycdn.com/cdn/images/favicon.0f31d2ea.ico' height=\"24\" alt=\"Gdrive-logo\"/> <b> Spotify Downloader"
      ],
      "metadata": {
        "id": "X8KEYaCg8s_z"
      }
    },
    {
      "cell_type": "code",
      "source": [
        "#@title <b> Install Requirement </b></strong>\n",
        "from IPython.display import clear_output\n",
        "from google.colab import drive\n",
        "import subprocess\n",
        "\n",
        "# Define custom ASCII art for installation\n",
        "ascii_art = r\"\"\"\n",
        "           __                        __\n",
        " __ __ ___/ /___  ___  ____ __ __   / /_    __ _  ___\n",
        " \\ \\ // _  // _ \\/ -_)/ __// // /_ / __/_  /  ' \\/ -_)\n",
        "/_\\_\\ \\_,_// .__/\\__//_/   \\_,_/(_)\\__/(_)/_/_/_/\\__/\n",
        "          /_/\n",
        "\"\"\"\n",
        "\n",
        "# Display custom ASCII art for installation\n",
        "print(ascii_art)\n",
        "\n",
        "# Install requirements quietly\n",
        "print('Installing Requirements...\\n')\n",
        "subprocess.run(['apt-get', 'upgrade', '-y', '-qq'])\n",
        "subprocess.run(['pip', 'install', 'spotdl==v4.2.2', '-q'])\n",
        "\n",
        "# Mount Google Drive\n",
        "drive.mount('/gdrive')\n",
        "\n",
        "# Clear the output after finishing installation\n",
        "clear_output()\n",
        "print('Success: Requirements installed')"
      ],
      "metadata": {
        "cellView": "form",
        "id": "xSkgKHan98ez"
      },
      "execution_count": null,
      "outputs": []
    },
    {
      "cell_type": "code",
      "source": [
        "#@title <b> Download song </b></strong>\n",
        "\n",
        "#@markdown If you repeatedly download the same song from the same URL, you may encounter some errors. To avoid this problem, you should delete the old files before attempting to download the same song again.\n",
        "\n",
        "spotify_url = \"https://open.spotify.com/track/4FYWOYqOF9lbb1JcZFDT67\" #@param {type:\"string\"}\n",
        "src_aud= \"youtube-music\" #@param [\"youtube\",\"youtube-music\",\"slider-kz\"]\n",
        "format = \"mp3\" #@param [\"flac\",\"m4a\",\"ogg\",\"mp3\",\"opus\",\"wav\"]\n",
        "birate = \"320k\" #@param [\"auto\",\"disable\",\"8k\",\"16k\",\"24k\",\"32k\",\"40k\",\"48k\",\"64k\",\"80k\",\"96k\",\"112k\",\"128k\",\"160k\",\"192k\",\"224k\",\"256k\",\"320k\"]\n",
        "generate_lrc = False #@param {type:\"boolean\"}\n",
        "lyrics = \"musixmatch\" #@param [\"genius\",\"musixmatch\",\"azlyrics\",\"synced\"]\n",
        "output_directory = \"/gdrive/MyDrive/Downloads\"  # Define the output directory\n",
        "\n",
        "print(f'\\033[92mDownloading song from spotify\\033[0m\\n')\n",
        "\n",
        "command = f\"spotdl {spotify_url} --audio {src_aud} --format {format} --lyrics {lyrics} --bitrate {birate}\"\n",
        "\n",
        "if generate_lrc:\n",
        "    command += \" --generate-lrc\"\n",
        "\n",
        "command += f' --output \"{output_directory}\"'\n",
        "\n",
        "!{command}\n",
        "\n",
        "print('\\n\\033[93mREAD:\\033[0m \\033[1mDownloaded song is located in your gdrive.\\033[0m')"
      ],
      "metadata": {
        "cellView": "form",
        "id": "O_SdBiFr-B3X"
      },
      "execution_count": null,
      "outputs": []
    },
    {
      "cell_type": "markdown",
      "source": [
        "# 🌟 <b> YT Playlist Downloader"
      ],
      "metadata": {
        "id": "5pijsOtM8umq"
      }
    },
    {
      "cell_type": "code",
      "source": [
        "# @markdown Default: Max video length 40 mins. (See Download menu)\n",
        "\n",
        "# @markdown No limit on Audio.\n",
        "\n",
        "LINK = \"https://www.youtube.com/playlist?list=PLgWsWTRc251rK0QtZqfxxdJE8fo71PQzG\" # @param {type:\"string\"}\n",
        "Download = \"Audio_Only\" #@param [\"Audio_Only\", \"Audio_Video\", \"Bypass_40Mins_Video_Limit\"]\n",
        "\n",
        "from google.colab import drive\n",
        "drive.mount('/content/drive')\n",
        "\n",
        "!wget \"https://raw.githubusercontent.com/coleaderme/multi-yt/main/multiYT.sh\"\n",
        "!wget \"https://raw.githubusercontent.com/coleaderme/multi-yt/main/multiYT_A.sh\"\n",
        "!wget -c \"https://github.com/yt-dlp/yt-dlp/releases/latest/download/yt-dlp_linux\" && mv yt-dlp_linux /usr/bin/yt-dlp && chmod +x /usr/bin/yt-dlp\n",
        "## Not using aria2c, already downloading via 10 parallel connections.\n",
        "# !apt -qq update && apt -qq install aria2\n",
        "\n",
        "#### Step 1: Command to Flat URL to playlist (videos less then 40 mins)\n",
        "if Download == \"Audio_Video\":\n",
        "    !yt-dlp --match-filter \"duration < 2400\" --flat-playlist -i --print-to-file url playlist.txt \"$LINK\"\n",
        "elif Download == \"Audio_Only\":\n",
        "    !yt-dlp --flat-playlist -i --print-to-file url playlist.txt \"$LINK\"\n",
        "elif Download == \"Bypass_40Mins_Video_Limit\":\n",
        "    !yt-dlp --flat-playlist -i --print-to-file url playlist.txt \"$LINK\"\n",
        "else:\n",
        "    print(\"Expected 1 of 3 opts above.\")\n",
        "\n",
        "## download X numbers of videos at once.\n",
        "INCREMENT = 10\n",
        "\n",
        "\n",
        "#### Step 2: Convert large list into smaller list of n items\n",
        "with open(\"playlist.txt\") as pl:\n",
        "    links = [l.strip() for l in pl]\n",
        "\n",
        "total = len(links)\n",
        "groups = int(total / INCREMENT)\n",
        "extra = total % INCREMENT\n",
        "\n",
        "batch = 0\n",
        "nextj = 0 # pass on the local variable, i.e, for loop.\n",
        "## loop 11 times of 5's\n",
        "for j in range(groups):\n",
        "    ## [quick] how does this works? ..\n",
        "    ## links[0:0+5] >> links[5:5+5] >> links[10:10+5]\n",
        "    with open(f\"queue{j+1}.txt\", 'a') as f:\n",
        "        for k in links[batch:batch+INCREMENT]:\n",
        "            f.write(f\"{k}\\n\")\n",
        "        batch = batch + INCREMENT\n",
        "    nextj = j # pass on the local variable to next loop.\n",
        "\n",
        "if extra:\n",
        "    with open(f\"queue{nextj+1+1}.txt\", 'a') as f:\n",
        "        for r in links[batch:]:\n",
        "            f.write(f\"{r}\\n\")\n",
        "            # print(\"extra \"+ r)\n",
        "\n",
        "print(\"total items:\", total,\"groups:\", groups ,\"extra:\", extra)\n",
        "\n",
        "#### Step 3: Execute this command\n",
        "if Download == \"Audio_Only\":\n",
        "    !for i in $(ls | grep \"que\"); do bash multiYT_A.sh $i;done\n",
        "else:\n",
        "    !for i in $(ls | grep \"que\"); do bash multiYT.sh $i;done\n",
        "\n",
        "#*******************************************************************************************\n",
        "#### Step 4: Packing and moving\n",
        "!mkdir YT_Downloads\n",
        "!mv *.mkv YT_Downloads/\n",
        "!mv *.webm YT_Downloads/\n",
        "!mv *.opus YT_Downloads/\n",
        "\n",
        "!7z a -m0=copy YT_Downloads.7z \"/content/YT_Downloads/\"\n",
        "\n",
        "print('Moving to Google Drive...')\n",
        "!cp -v \"/content/YT_Downloads.7z\" \"/content/drive/MyDrive/\"\n",
        "print('[OK] Done.')"
      ],
      "metadata": {
        "cellView": "form",
        "id": "MsMnTEM3_KFd"
      },
      "execution_count": null,
      "outputs": []
    },
    {
      "cell_type": "markdown",
      "source": [
        "# 💨 **AIO Downlaoder**"
      ],
      "metadata": {
        "id": "OZFXrH5c8t4c"
      }
    },
    {
      "cell_type": "code",
      "source": [
        "# @title <img src=\"https://kstatic.googleusercontent.com/files/e20dbc1db7b6eab22fb2d07df8043f8a74b301dbb8c176e6a1992b2dc229c5ae94b5c260cf549c41712fa40b7e639166c6a8461303a27c2a3b9c55b8ca155ec3\" height=\"19\" alt=\"Icon\"> <font color=orange><b>Mount Google Drive\n",
        "# @markdown <p>Run this if you want to downlaod and transfer your files to your google drive without rclone.</p>\n",
        "\n",
        "import os\n",
        "delete_path = '/content/sample_data'\n",
        "if os.path.exists(delete_path):\n",
        "    !rm -rf '/content/sample_data'\n",
        "\n",
        "from google.colab import drive\n",
        "drive.mount('/content/drive')"
      ],
      "metadata": {
        "cellView": "form",
        "id": "sarYdBGbES-N"
      },
      "execution_count": null,
      "outputs": []
    },
    {
      "cell_type": "code",
      "source": [
        "# @markdown <font size=4><b>Gdrive Downloader</b></font>\n",
        "# @markdown <p>Change ***mode*** to \"file\" for link from single file link and \"folder\" for link from folder link. Fill ***id_link*** with only the id from url, not full url.</p>\n",
        "mode = \"file\" # @param [\"file\", \"folder\"]\n",
        "id_link = \"\" # @param {type:\"string\"}\n",
        "output_path = \"/content/downloads\" # @param {type:\"string\"}\n",
        "\n",
        "import os\n",
        "delete_path = '/content/sample_data'\n",
        "if os.path.exists(delete_path):\n",
        "    !rm -rf '/content/sample_data'\n",
        "\n",
        "try:\n",
        "    os.makedirs(output_path, exist_ok=True)\n",
        "except OSError as error:\n",
        "    pass\n",
        "os.chdir(output_path)\n",
        "\n",
        "if mode == \"file\":\n",
        "    command = f\"gdown {id_link}\"\n",
        "else:\n",
        "    command = f\"gdown --folder {id_link}\"\n",
        "\n",
        "!{command}\n",
        "\n",
        "os.chdir('/content')"
      ],
      "metadata": {
        "cellView": "form",
        "id": "X8tE6vQ9Ej8p"
      },
      "execution_count": null,
      "outputs": []
    },
    {
      "cell_type": "code",
      "source": [
        "# @markdown <center><img src=\"https://raw.githubusercontent.com/ImPeekaboo/mytools/main/source/logo/mega.png\" alt=\"gofile logo\" height=\"50\"></center>\n",
        "# @markdown <font size=4><b>MEGA Downloader</b></font>\n",
        "URL = \"\" # @param {type:\"string\"}\n",
        "OUTPUT_PATH = \"/content/downloads\" # @param {type:\"string\"}\n",
        "\n",
        "import sys, os, urllib.request, time, subprocess, contextlib\n",
        "from IPython.display import clear_output, update_display\n",
        "\n",
        "if not os.path.exists(\"/content/peeklab.cpython-310-x86_64-linux-gnu.so\"):\n",
        "    urllib.request.urlretrieve(\"https://github.com/ImPeekaboo/mytools/raw/main/source/peeklab.cpython-310-x86_64-linux-gnu.so\", \"/content/peeklab.cpython-310-x86_64-linux-gnu.so\")\n",
        "\n",
        "from peeklab import installMEGA\n",
        "\n",
        "if not os.path.exists(OUTPUT_PATH):\n",
        "  os.makedirs(OUTPUT_PATH, exist_ok=True)\n",
        "\n",
        "# Installing MEGAcmd\n",
        "installMEGA()\n",
        "\n",
        "# Unix, Windows and old Macintosh end-of-line\n",
        "newlines = ['\\n', '\\r\\n', '\\r']\n",
        "\n",
        "def unbuffered(proc, stream='stdout'):\n",
        "    stream = getattr(proc, stream)\n",
        "    with contextlib.closing(stream):\n",
        "        while True:\n",
        "            out = []\n",
        "            last = stream.read(1)\n",
        "            # Don't loop forever\n",
        "            if last == '' and proc.poll() is not None:\n",
        "                break\n",
        "            while last not in newlines:\n",
        "                # Don't loop forever\n",
        "                if last == '' and proc.poll() is not None:\n",
        "                    break\n",
        "                out.append(last)\n",
        "                last = stream.read(1)\n",
        "            out = ''.join(out)\n",
        "            yield out\n",
        "\n",
        "def transfare():\n",
        "    import codecs\n",
        "    decoder = codecs.getincrementaldecoder(\"UTF-8\")()\n",
        "    cmd = [\"mega-get\", URL, OUTPUT_PATH]\n",
        "    proc = subprocess.Popen(\n",
        "        cmd,\n",
        "        stdout=subprocess.PIPE,\n",
        "        stderr=subprocess.STDOUT,\n",
        "        # Make all end-of-lines '\\n'\n",
        "        universal_newlines=True,\n",
        "    )\n",
        "    for line in unbuffered(proc):\n",
        "        #clear_output(wait=True)\n",
        "        print(line)\n",
        "transfare()"
      ],
      "metadata": {
        "cellView": "form",
        "id": "7sBHizGw_R26"
      },
      "execution_count": null,
      "outputs": []
    },
    {
      "cell_type": "code",
      "source": [
        "# @markdown <center><img src=\"https://raw.githubusercontent.com/ImPeekaboo/mytools/main/source/logo/gofile.png\" alt=\"gofile logo\" height=\"50\"></center>\n",
        "# @markdown <font size=4><b>Gofile Downloader</b></font>\n",
        "link = \"\" # @param {type:\"string\"}\n",
        "output_path = \"/content/downloads\" # @param {type:\"string\"}\n",
        "\n",
        "import os, urllib.request\n",
        "from IPython.display import clear_output\n",
        "\n",
        "if not os.path.exists(\"/content/peeklab.cpython-310-x86_64-linux-gnu.so\"):\n",
        "    urllib.request.urlretrieve(\"https://github.com/ImPeekaboo/mytools/raw/main/source/peeklab.cpython-310-x86_64-linux-gnu.so\", \"/content/peeklab.cpython-310-x86_64-linux-gnu.so\")\n",
        "\n",
        "from peeklab import installGF\n",
        "\n",
        "installGF()\n",
        "\n",
        "if not os.path.exists(output_path):\n",
        "   os.makedirs(output_path)\n",
        "\n",
        "os.environ['GF_DOWNLOADDIR'] = output_path\n",
        "\n",
        "!gofile \"{link}\""
      ],
      "metadata": {
        "cellView": "form",
        "id": "bFFxHF5F_Zkw"
      },
      "execution_count": null,
      "outputs": []
    },
    {
      "cell_type": "code",
      "source": [
        "# @markdown <font size=4>**cyberdrop-dl**</font>\n",
        "# @markdown <p><font size=2>Supported Sites:</font></p>\n",
        "# @markdown > <font size=1>Anonfiles, Bayfiles, Bunkr (ru/su/la), Coomer.party, Cyberdrop, Cyberfile, E-Hentai, Erome, Fapello, Gallery.DeltaPorno.com, GoFile, Gfycat, HGameCG, ImgBox, IMG.Kiwi, imgur.com, jpg.church, jpg.fish, jpg.fishing, jpg.pet, kemono.party, LoveFap, NSFW.XXX, PimpAndHost, PixelDrain, Pixl, Postimg.cc, reddit.com, redgifs.com, NudoStar, SimpCity, SocialMediaGirls, XBunker, XBunkr.</font>\n",
        "link = \"\" # @param {type:\"string\"}\n",
        "output = \"/content/downloads\" # @param {type:\"string\"}\n",
        "hide_progress = False # @param {type:\"boolean\"}\n",
        "\n",
        "import importlib, os, urllib.request\n",
        "from IPython.display import clear_output\n",
        "\n",
        "if not os.path.exists(\"/content/peeklab.cpython-310-x86_64-linux-gnu.so\"):\n",
        "    urllib.request.urlretrieve(\"https://github.com/ImPeekaboo/mytools/raw/main/source/peeklab.cpython-310-x86_64-linux-gnu.so\", \"/content/peeklab.cpython-310-x86_64-linux-gnu.so\")\n",
        "\n",
        "from peeklab import installCD\n",
        "\n",
        "installCD()\n",
        "\n",
        "command = f\"cyberdrop-dl --refresh-rate 100 --hide-new-progress -o \\\"{output}\\\" \\\"{link}\\\"\"\n",
        "if hide_progress is True:\n",
        "    command = command.replace('--hide-new-progress', '--hide-overall-progress --hide-forum-progress --hide-thread-progress --hide-domain-progress --hide-album-progress --hide-file-progress')\n",
        "!{command}"
      ],
      "metadata": {
        "cellView": "form",
        "id": "SejQUwYo_gnK"
      },
      "execution_count": null,
      "outputs": []
    },
    {
      "cell_type": "markdown",
      "source": [
        "# ♻️ **Rclone Transfer**"
      ],
      "metadata": {
        "id": "Q075VnT2IeWe"
      }
    },
    {
      "cell_type": "markdown",
      "source": [
        "<center><img src=\"https://raw.githubusercontent.com/ImPeekaboo/mytools/main/source/logo/rclone.png\" alt=\"rclone logo\" height=\"50\"></center>"
      ],
      "metadata": {
        "id": "sNbgk-y-IovO"
      }
    },
    {
      "cell_type": "code",
      "source": [
        "# @markdown <font size=4>**Transfer Files with Rclone**</font>\n",
        "# @markdown <p>Use ***rclone_version*** \"stable\" for official rclone, and ***rclone_version*** \"mod\" with additional support for teldrive. Fill ***source*** with source path or direct download link, ***dest*** with your destination path.</p>\n",
        "rclone_version = \"stable\" # @param [\"stable\", \"mod\"]\n",
        "source = \"\" # @param {type:\"string\"}\n",
        "dest = \"\" # @param {type:\"string\"}\n",
        "\n",
        "import os, urllib.request\n",
        "\n",
        "if not os.path.exists(\"/content/peeklab.cpython-310-x86_64-linux-gnu.so\"):\n",
        "    urllib.request.urlretrieve(\"https://github.com/ImPeekaboo/mytools/raw/main/source/peeklab.cpython-310-x86_64-linux-gnu.so\", \"/content/peeklab.cpython-310-x86_64-linux-gnu.so\")\n",
        "\n",
        "from peeklab import installRclone, installRcloneM, uploadConf\n",
        "from IPython.display import clear_output\n",
        "\n",
        "if rclone_version == \"stable\":\n",
        "    installRclone()\n",
        "else:\n",
        "    installRcloneM()\n",
        "\n",
        "uploadConf()\n",
        "\n",
        "if source.startswith(\"https://\"):\n",
        "    command = f\"rclone copyurl -v --stats 1 --stats-one-line --checkers 16 --onedrive-encoding \\\"Slash\\\" -a --header-filename \\\"{source}\\\" \\\"{dest}\\\"\"\n",
        "else:\n",
        "    command = f\"rclone copy -v --stats 1 --stats-one-line --checkers 16 --onedrive-encoding \\\"Slash\\\" --create-empty-src-dirs \\\"{source}\\\" \\\"{dest}\\\"\"\n",
        "\n",
        "!{command}"
      ],
      "metadata": {
        "cellView": "form",
        "id": "GEQVhGYcIiWJ"
      },
      "execution_count": null,
      "outputs": []
    },
    {
      "cell_type": "markdown",
      "source": [
        "# 🔥 <b>Useful"
      ],
      "metadata": {
        "id": "naxmDckqJxgZ"
      }
    },
    {
      "cell_type": "code",
      "source": [
        "#@title <b>Time Out Preventer (Advanced) </b></strong>\n",
        "%%capture\n",
        "AUTO_RECONNECT = True #@param {type:\"boolean\"}\n",
        "#@markdown **Run this code to prevent Google Colab from Timeout**\n",
        "from os import makedirs\n",
        "makedirs(\"/root/.config/rclone\", exist_ok = True)\n",
        "if AUTO_RECONNECT:\n",
        "  import IPython\n",
        "  from google.colab import output\n",
        "\n",
        "  display(IPython.display.Javascript('''\n",
        "  function ClickConnect(){\n",
        "    btn = document.querySelector(\"colab-connect-button\")\n",
        "    if (btn != null){\n",
        "      console.log(\"Click colab-connect-button\");\n",
        "      btn.click()\n",
        "      }\n",
        "\n",
        "    btn = document.getElementById('ok')\n",
        "    if (btn != null){\n",
        "      console.log(\"Click reconnect\");\n",
        "      btn.click()\n",
        "      }\n",
        "    }\n",
        "\n",
        "  setInterval(ClickConnect,60000)\n",
        "  '''))"
      ],
      "metadata": {
        "cellView": "form",
        "id": "vgI3EAcjMDBW"
      },
      "execution_count": null,
      "outputs": []
    },
    {
      "cell_type": "code",
      "source": [
        "#@title <b> Option </b></strong>\n",
        "Kill_The_Machine = True #@param {type:\"boolean\"}\n",
        "if Kill_The_Machine == True:\n",
        "  from google.colab import runtime\n",
        "  runtime.unassign()\n",
        "  print('The machine is killed.Bye!')\n",
        "else:\n",
        "  print('Have a nice day.Bye!')"
      ],
      "metadata": {
        "cellView": "form",
        "id": "yGYw7zGPLvzk"
      },
      "execution_count": null,
      "outputs": []
    }
  ]
}